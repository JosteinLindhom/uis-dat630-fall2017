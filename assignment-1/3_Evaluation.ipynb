{
 "cells": [
  {
   "cell_type": "markdown",
   "metadata": {},
   "source": [
    "# Assignment 1 - Part 2\n",
    "\n",
    "Evaluation of retrieval results."
   ]
  },
  {
   "cell_type": "code",
   "execution_count": 173,
   "metadata": {
    "collapsed": true
   },
   "outputs": [],
   "source": [
    "RANKING_FILE = \"data/bm25_improved.txt\"  # file with the document rankings\n",
    "QRELS_FILE = \"data/qrels2.csv\"  # file with the relevance judgments (ground truth)"
   ]
  },
  {
   "cell_type": "markdown",
   "metadata": {},
   "source": [
    "**TODO** Complete the function that calculates evaluation metrics for a given a ranking (`ranking`) against the ground truth (`gt`). It should return the results as a dictionary, where the key is the retrieval metric.\n",
    "\n",
    "(Hint: see [Task 1 of Practicum 2](https://github.com/kbalog/uis-dat630-fall2017/blob/master/practicum/practicum-2/solutions/1_Eval_binary.ipynb).)"
   ]
  },
  {
   "cell_type": "code",
   "execution_count": 168,
   "metadata": {
    "collapsed": true
   },
   "outputs": [],
   "source": [
    "def eval_query(rankings, gt):\n",
    "    p10, ap, rr = 0, 0, 0\n",
    "\n",
    "    num_rel = 0\n",
    "    for i, ranking in enumerate(rankings):\n",
    "\n",
    "        if ranking in gt:\n",
    "\n",
    "            num_rel += 1\n",
    "            \n",
    "            pi = num_rel / (i + 1)\n",
    "    \n",
    "            ap += pi\n",
    "\n",
    "            if i < 10:\n",
    "                p10 += 1\n",
    "\n",
    "            if rr == 0:\n",
    "                rr = 1 / (i + 1)\n",
    "\n",
    "    p10 /= 10\n",
    "    ap /= len(gt)\n",
    "    return {\"P10\": p10, \"AP\": ap, \"RR\": rr}\n",
    "    "
   ]
  },
  {
   "cell_type": "markdown",
   "metadata": {},
   "source": [
    "Function that evaluates an output file, which contains rankings for a set of queries.\n",
    "\n",
    "**TODO** It is almost complete, you just need to add the computation of mean scores (over the entire query set)."
   ]
  },
  {
   "cell_type": "code",
   "execution_count": 169,
   "metadata": {
    "collapsed": true
   },
   "outputs": [],
   "source": [
    "def eval(gt_file, output_file):\n",
    "    # load data from ground truth file\n",
    "    gt = {}  # holds a list of relevant documents for each queryID\n",
    "    with open(gt_file, \"r\") as fin:\n",
    "        header = fin.readline().strip()\n",
    "        if header != \"queryID,docIDs\":\n",
    "            raise Exception(\"Incorrect file format!\")\n",
    "        for line in fin.readlines():\n",
    "            qid, docids = line.strip().split(\",\")\n",
    "            gt[qid] = docids.split()\n",
    "            \n",
    "    # load data from output file\n",
    "    output = {}\n",
    "    with open(output_file, \"r\") as fin:\n",
    "        header = fin.readline().strip()\n",
    "        print(header)\n",
    "        if header != \"QueryId,DocumentId\":\n",
    "            raise Exception(\"Incorrect file format!\")\n",
    "        for line in fin.readlines():\n",
    "            qid, docid = line.strip().split(\",\")\n",
    "            if qid not in output:\n",
    "                output[qid] = []\n",
    "            output[qid].append(docid)\n",
    "    \n",
    "    # evaluate each query that is in the ground truth\n",
    "    print(\"  QID  P@10   (M)AP  (M)RR\")\n",
    "    sum_p10, sum_ap, sum_rr = 0, 0, 0\n",
    "    for qid in sorted(gt.keys()):\n",
    "        res = eval_query(output.get(qid, []), gt.get(qid, []))\n",
    "        print(\"%5s %6.3f %6.3f %6.3f\" % (qid, res[\"P10\"], res[\"AP\"], res[\"RR\"]))\n",
    "        sum_p10 += res[\"P10\"]\n",
    "        sum_ap += res[\"AP\"]\n",
    "        sum_rr += res[\"RR\"]\n",
    "\n",
    "    #Computing averages\n",
    "    \n",
    "    avg_p10 = sum_p10 / len(gt)\n",
    "    avg_ap = sum_ap / len(gt)\n",
    "    avg_rr = sum_rr / len(gt)\n",
    "    \n",
    "    # print averages\n",
    "    print(\"%5s %6.3f %6.3f %6.3f\" % (\"ALL\", avg_p10, avg_ap, avg_rr))"
   ]
  },
  {
   "cell_type": "markdown",
   "metadata": {},
   "source": [
    "### Main"
   ]
  },
  {
   "cell_type": "code",
   "execution_count": 174,
   "metadata": {},
   "outputs": [
    {
     "name": "stdout",
     "output_type": "stream",
     "text": [
      "QueryId,DocumentId\n",
      "  QID  P@10   (M)AP  (M)RR\n",
      "  303  0.600  0.307  1.000\n",
      "  307  0.000  0.004  0.034\n",
      "  310  0.100  0.022  0.200\n",
      "  314  0.000  0.000  0.000\n",
      "  322  0.000  0.005  0.077\n",
      "  325  0.000  0.000  0.000\n",
      "  330  0.000  0.019  0.019\n",
      "  336  0.200  0.167  0.500\n",
      "  341  0.000  0.004  0.015\n",
      "  344  0.000  0.000  0.000\n",
      "  347  0.600  0.103  1.000\n",
      "  353  0.000  0.000  0.000\n",
      "  354  0.300  0.027  1.000\n",
      "  362  0.400  0.154  0.333\n",
      "  363  0.500  0.046  0.500\n",
      "  367  0.100  0.010  0.100\n",
      "  372  0.000  0.000  0.000\n",
      "  374  0.200  0.194  0.143\n",
      "  383  0.100  0.028  0.333\n",
      "  389  0.000  0.000  0.000\n",
      "  393  0.200  0.061  0.143\n",
      "  399  0.500  0.057  0.500\n",
      "  401  0.100  0.014  1.000\n",
      "  404  0.300  0.056  1.000\n",
      "  408  0.100  0.006  0.200\n",
      "  409  0.200  0.120  0.500\n",
      "  416  0.000  0.013  0.029\n",
      "  419  0.100  0.022  0.250\n",
      "  426  0.500  0.128  0.333\n",
      "  427  0.800  0.612  1.000\n",
      "  433  0.200  0.121  1.000\n",
      "  435  0.000  0.018  0.036\n",
      "  436  0.100  0.014  0.143\n",
      "  439  0.000  0.002  0.042\n",
      "  443  0.400  0.074  0.333\n",
      "  448  0.000  0.001  0.033\n",
      "  622  0.900  0.349  1.000\n",
      "  625  0.100  0.061  1.000\n",
      "  638  0.300  0.079  1.000\n",
      "  639  0.100  0.007  0.100\n",
      "  648  0.400  0.337  0.500\n",
      "  650  0.200  0.077  0.250\n",
      "  651  0.000  0.003  0.029\n",
      "  658  0.300  0.108  1.000\n",
      "  689  0.400  0.095  0.250\n",
      "  ALL  0.207  0.078  0.376\n"
     ]
    }
   ],
   "source": [
    "eval(QRELS_FILE, RANKING_FILE)"
   ]
  },
  {
   "cell_type": "code",
   "execution_count": null,
   "metadata": {
    "collapsed": true
   },
   "outputs": [],
   "source": []
  },
  {
   "cell_type": "code",
   "execution_count": null,
   "metadata": {
    "collapsed": true
   },
   "outputs": [],
   "source": []
  }
 ],
 "metadata": {
  "kernelspec": {
   "display_name": "Python 3",
   "language": "python",
   "name": "python3"
  },
  "language_info": {
   "codemirror_mode": {
    "name": "ipython",
    "version": 3
   },
   "file_extension": ".py",
   "mimetype": "text/x-python",
   "name": "python",
   "nbconvert_exporter": "python",
   "pygments_lexer": "ipython3",
   "version": "3.5.3"
  }
 },
 "nbformat": 4,
 "nbformat_minor": 2
}
