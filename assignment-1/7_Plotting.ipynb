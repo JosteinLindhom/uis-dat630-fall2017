{
 "cells": [
  {
   "cell_type": "markdown",
   "metadata": {},
   "source": [
    "# Assignment 1 - Part 3\n",
    "\n",
    "Plotting"
   ]
  },
  {
   "cell_type": "code",
   "execution_count": 102,
   "metadata": {
    "collapsed": true
   },
   "outputs": [],
   "source": [
    "import matplotlib.pyplot as plt\n",
    "BASELINE = \"data/baseline.txt\"  # file with the document rankings\n",
    "IMPROVED = \"data/mlm_improved.txt\"\n",
    "QRELS_FILE = \"data/qrels2.csv\"  # file with the relevance judgments (ground truth)"
   ]
  },
  {
   "cell_type": "code",
   "execution_count": 103,
   "metadata": {
    "collapsed": true
   },
   "outputs": [],
   "source": [
    "def eval_query(rankings, gt):\n",
    "    ap = 0\n",
    "    num_rel = 0\n",
    "    for i, ranking in enumerate(rankings):\n",
    "        if ranking in gt:\n",
    "            num_rel += 1\n",
    "            pi = num_rel / (i + 1)\n",
    "            ap += pi\n",
    "    ap /= len(gt)\n",
    "    return {\"AP\": ap}\n",
    "    "
   ]
  },
  {
   "cell_type": "markdown",
   "metadata": {},
   "source": []
  },
  {
   "cell_type": "code",
   "execution_count": 104,
   "metadata": {
    "collapsed": true
   },
   "outputs": [],
   "source": [
    "def eval(gt_file, output_file):\n",
    "    # load data from ground truth file\n",
    "    gt = {}  # holds a list of relevant documents for each queryID\n",
    "    with open(gt_file, \"r\") as fin:\n",
    "        header = fin.readline().strip()\n",
    "        if header != \"queryID,docIDs\":\n",
    "            raise Exception(\"Incorrect file format!\")\n",
    "        for line in fin.readlines():\n",
    "            qid, docids = line.strip().split(\",\")\n",
    "            gt[qid] = docids.split()\n",
    "            \n",
    "    # load data from output file\n",
    "    output = {}\n",
    "    with open(output_file, \"r\") as fin:\n",
    "        header = fin.readline().strip()\n",
    "        if header != \"QueryId,DocumentId\":\n",
    "            raise Exception(\"Incorrect file format!\")\n",
    "        for line in fin.readlines():\n",
    "            qid, docid = line.strip().split(\",\")\n",
    "            if qid not in output:\n",
    "                output[qid] = []\n",
    "            output[qid].append(docid)\n",
    "    \n",
    "    # evaluate each query that is in the ground truth\n",
    "    sum_ap = 0\n",
    "    ap = []\n",
    "    for qid in sorted(gt.keys()):\n",
    "        res = eval_query(output.get(qid, []), gt.get(qid, []))\n",
    "        ap.append(res[\"AP\"])\n",
    "    return ap"
   ]
  },
  {
   "cell_type": "markdown",
   "metadata": {},
   "source": [
    "### Main"
   ]
  },
  {
   "cell_type": "code",
   "execution_count": 105,
   "metadata": {
    "scrolled": true
   },
   "outputs": [
    {
     "name": "stdout",
     "output_type": "stream",
     "text": [
      "[-0.0601, -0.0007, 0.0082, 0.0, 0.0, 0.0001, 0.4714, -0.0769, -0.0005, 0.0, -0.0119, 0.0, -0.0266, 0.057, -0.009, -0.0002, 0.0, 0.0734, 0.0165, 0.0, 0.0048, 0.0103, 0.0, -0.0154, -0.002, -0.0331, 0.0121, -0.0079, -0.0024, 0.1271, 0.1517, 0.0164, 0.0025, 0.0025, 0.0749, 0.0, -0.0522, 0.0025, 0.0063, -0.0016, -0.0364, 0.0, 0.0, -0.017, 0.0775]\n"
     ]
    },
    {
     "data": {
      "image/png": "[encoded data removed]",
      "text/plain": [
       "<matplotlib.figure.Figure at 0x935e898>"
      ]
     },
     "metadata": {},
     "output_type": "display_data"
    }
   ],
   "source": [
    "improved_ap = eval(QRELS_FILE, IMPROVED)\n",
    "baseline_ap = eval(QRELS_FILE, BASELINE)\n",
    "dap = []\n",
    "for improved, baseline in zip(improved_ap, baseline_ap):\n",
    "    dap.append(round(improved - baseline, 4))\n",
    "print(dap)\n",
    "\n",
    "for i, delta in enumerate(sorted(dap)):\n",
    "    plt.bar(i+1, delta, color=\"blue\")\n",
    "plt.title(\"Individual Delta AP\")\n",
    "plt.xlabel('Query number')\n",
    "plt.ylabel('Delta AP')\n",
    "plt.show()\n",
    "#eval(QRELS_FILE, RANKING_FILE)"
   ]
  },
  {
   "cell_type": "code",
   "execution_count": 106,
   "metadata": {},
   "outputs": [
    {
     "data": {
      "image/png": "[encoded data removed]",
      "text/plain": [
       "<matplotlib.figure.Figure at 0x932f940>"
      ]
     },
     "metadata": {},
     "output_type": "display_data"
    }
   ],
   "source": [
    "bins = [0, 0, 0, 0, 0, 0, 0]\n",
    "for num  in dap:\n",
    "    if num >= -1.0 and num < -0.5:\n",
    "        bins[0] += 1\n",
    "    elif num >= -0.5 and num < -0.25:\n",
    "        bins[1] += 1\n",
    "    elif num >= -0.25 and num < -0.05:\n",
    "        bins[2] += 1\n",
    "    elif num >= -0.05 and num < 0.05:\n",
    "        bins[3] += 1\n",
    "    elif num >= 0.05 and num < 0.25:\n",
    "        bins[4] += 1\n",
    "    elif num >= 0.25 and num < 0.50:\n",
    "        bins[5] += 1\n",
    "    elif num >= 0.5 and num < 1.0:\n",
    "        bins[6] += 1\n",
    "\n",
    "x = [\"[-1,-0.5)\", \"[-0.5, -0.25)\", \"[-0.25, -0.05)\", \"[-0.05, 0.05]\", \"(0.05, 0.25]\", \"(0.25, 0.5]\", \"(0.5, 1]\"]\n",
    "for i, bin in enumerate(bins):\n",
    "    plt.bar(i, bin, align=\"center\", color=\"blue\")\n",
    "plt.xticks([0, 1, 2, 3, 4, 5, 6], x)\n",
    "plt.title(\"Queries distributed according to Delta AP\")\n",
    "plt.ylabel(\"# Queries\")\n",
    "plt.xlabel(\"Delta AP\")\n",
    "plt.rcParams[\"figure.figsize\"] = [10, 5] #Had to adjust figure size for it to display properly\n",
    "plt.show()\n"
   ]
  },
  {
   "cell_type": "code",
   "execution_count": null,
   "metadata": {
    "collapsed": true
   },
   "outputs": [],
   "source": []
  },
  {
   "cell_type": "code",
   "execution_count": null,
   "metadata": {
    "collapsed": true
   },
   "outputs": [],
   "source": []
  },
  {
   "cell_type": "code",
   "execution_count": null,
   "metadata": {
    "collapsed": true
   },
   "outputs": [],
   "source": []
  }
 ],
 "metadata": {
  "kernelspec": {
   "display_name": "Python 3",
   "language": "python",
   "name": "python3"
  },
  "language_info": {
   "codemirror_mode": {
    "name": "ipython",
    "version": 3
   },
   "file_extension": ".py",
   "mimetype": "text/x-python",
   "name": "python",
   "nbconvert_exporter": "python",
   "pygments_lexer": "ipython3",
   "version": "3.5.3"
  }
 },
 "nbformat": 4,
 "nbformat_minor": 2
}
